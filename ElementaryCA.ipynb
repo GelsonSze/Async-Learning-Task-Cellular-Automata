{
 "cells": [
  {
   "cell_type": "markdown",
   "id": "2c474095-c5f4-486a-a45f-3d0bd47f33bd",
   "metadata": {},
   "source": [
    "###  Imports"
   ]
  },
  {
   "cell_type": "code",
   "execution_count": 1,
   "id": "e7116372-4616-484f-82e4-8cbf69d83936",
   "metadata": {},
   "outputs": [],
   "source": [
    "import numpy as np\n",
    "import matplotlib.pyplot as plt\n",
    "import matplotlib.animation as animation\n",
    "import networkx as nx\n",
    "from matplotlib.animation import FuncAnimation, PillowWriter "
   ]
  },
  {
   "cell_type": "markdown",
   "id": "9d8cae14-eb49-4cdb-9abe-4ed31a6bbbe1",
   "metadata": {},
   "source": [
    "### Elementary Cellular Automata Rule Set"
   ]
  },
  {
   "cell_type": "code",
   "execution_count": 2,
   "id": "637938f1-5955-4a18-9ff7-1a273216bf00",
   "metadata": {},
   "outputs": [],
   "source": [
    "def rules(prev, curr, succ):\n",
    "    global ruleset\n",
    "\n",
    "    if( prev == 1 and curr == 1 and succ == 1): return ruleset[0]\n",
    "    if( prev == 1 and curr == 1 and succ == 0): return ruleset[1]\n",
    "    if( prev == 1 and curr == 0 and succ == 1): return ruleset[2]\n",
    "    if( prev == 1 and curr == 0 and succ == 0): return ruleset[3]\n",
    "    if( prev == 0 and curr == 1 and succ == 1): return ruleset[4]\n",
    "    if( prev == 0 and curr == 1 and succ == 0): return ruleset[5]\n",
    "    if( prev == 0 and curr == 0 and succ == 1): return ruleset[6]\n",
    "    if( prev == 0 and curr == 0 and succ == 0): return ruleset[7]"
   ]
  },
  {
   "cell_type": "markdown",
   "id": "9ea20b26-8039-4ec5-bc09-9c8f21daa272",
   "metadata": {},
   "source": [
    "### Steps"
   ]
  },
  {
   "cell_type": "code",
   "execution_count": 3,
   "id": "4a854f3a-3f42-46f0-a0c0-cf8e05064730",
   "metadata": {},
   "outputs": [],
   "source": [
    "def step(currstep, matrix):\n",
    "    global row\n",
    "    global col\n",
    "    \n",
    "    prevstep = currstep -1\n",
    "    for index, y in enumerate(matrix[currstep]):\n",
    "        prev = matrix[prevstep][(index - 1) % col]\n",
    "        curr = matrix[prevstep][index]\n",
    "        succ = matrix[prevstep][(index + 1) % col]\n",
    "        matrix[currstep][index] = rules(prev, curr, succ)\n",
    "    return"
   ]
  },
  {
   "cell_type": "markdown",
   "id": "07eeb1f0-3372-4c98-b184-9ac1dc2d0115",
   "metadata": {},
   "source": [
    "### Elementary Cellular Automata"
   ]
  },
  {
   "cell_type": "code",
   "execution_count": 4,
   "id": "53ec3df3-a97b-4b46-84e8-a1c58de61da2",
   "metadata": {},
   "outputs": [],
   "source": [
    "def ElementaryCA(matrix):\n",
    "    global row\n",
    "    global col\n",
    "    for x in range(1,row): #skip first row\n",
    "        step(x,matrix)"
   ]
  },
  {
   "cell_type": "markdown",
   "id": "c6130858-fecc-4ba4-a1e5-f4c8c97c81a0",
   "metadata": {},
   "source": [
    "### Animate"
   ]
  },
  {
   "cell_type": "code",
   "execution_count": 12,
   "id": "57101912-283f-4b33-9926-82a30d20794e",
   "metadata": {},
   "outputs": [],
   "source": [
    "def animate(i):    \n",
    "    ax.clear()  # clear the plot\n",
    "    ax.set_axis_off()  # disable axis\n",
    "    matrix_plot = np.zeros((row, col), dtype=np.int8)  # initialize with all zeros\n",
    "    \n",
    "    upper_boundary = (i + 1) * iterations_per_frame  \n",
    "    lower_boundary = 0 if upper_boundary <= col else upper_boundary - col # col is the number of steps\n",
    "    \n",
    "    for y in range(lower_boundary, upper_boundary):  # assign the values\n",
    "        matrix_plot[y - lower_boundary, :] = matrix[y, :]\n",
    "    \n",
    "    #additional display\n",
    "    img = ax.imshow(matrix_plot, interpolation='nearest',cmap='viridis')\n",
    "    plt.gcf().text(0.15, 0.1, 'by Gelson Sze and Shane Enriquez', fontsize=18, fontfamily='Helvetica')\n",
    "    return [img]"
   ]
  },
  {
   "cell_type": "markdown",
   "id": "775990df-f717-42cf-9bc9-4d2d1498a1f7",
   "metadata": {
    "tags": []
   },
   "source": [
    "### Program"
   ]
  },
  {
   "cell_type": "code",
   "execution_count": 16,
   "id": "c0de5c43-43fc-4294-b9d9-bafba029a3c3",
   "metadata": {},
   "outputs": [
    {
     "name": "stdout",
     "output_type": "stream",
     "text": [
      "GIF successfully created!\n"
     ]
    },
    {
     "data": {
      "image/png": "[encoded data removed]",
      "text/plain": [
       "<Figure size 720x432 with 1 Axes>"
      ]
     },
     "metadata": {
      "needs_background": "light"
     },
     "output_type": "display_data"
    }
   ],
   "source": [
    "# Setup\n",
    "matrix = np.zeros_like(a=0,shape=(100,200)) # Cellular Automata setup 100 steps for 200 element array \n",
    "rule = 30 # Elementary CA Rule number\n",
    "iterations_per_frame = 1  # how many steps to show per frame\n",
    "interval=50  # milliseconds delay after each frame\n",
    "\n",
    "if(rule >= 0 and rule <=255):\n",
    "    # Global variables\n",
    "    (row,col) = matrix.shape\n",
    "    ruleset = f'{rule:08b}' # 8 bit binary representation of the rule\n",
    "    \n",
    "    middle = round(col/2)\n",
    "    matrix[0][middle] = 1 # Set the middle of the first row as black\n",
    "    ElementaryCA(matrix)\n",
    "    \n",
    "    fig = plt.figure(figsize=(10, 6))\n",
    "    frames = int(row // iterations_per_frame)  # frames in the animation\n",
    "    ax = plt.axes()\n",
    "    ax.set_axis_off()\n",
    "    \n",
    "    anim = animation.FuncAnimation(fig, animate, frames=frames, interval=50, blit=True)\n",
    "    anim.save('ElementaryCA.gif', writer='pillow', savefig_kwargs = dict(facecolor='#9c9cb8')) # saves the animation in a gif file\n",
    "    \n",
    "    print(\"GIF successfully created!\")\n",
    "    \n",
    "else:\n",
    "    print(\"Invalid ruleset\")"
   ]
  },
  {
   "cell_type": "markdown",
   "id": "24942e53-622a-44c6-b106-ac2dfd171fa1",
   "metadata": {},
   "source": [
    "<img src=\"ElementaryCA.gif\" width=\"750\" align=\"center\">"
   ]
  },
  {
   "cell_type": "code",
   "execution_count": null,
   "id": "bd1e5473-cd17-4b54-976d-033d59454466",
   "metadata": {},
   "outputs": [],
   "source": []
  }
 ],
 "metadata": {
  "kernelspec": {
   "display_name": "Python 3 (ipykernel)",
   "language": "python",
   "name": "python3"
  },
  "language_info": {
   "codemirror_mode": {
    "name": "ipython",
    "version": 3
   },
   "file_extension": ".py",
   "mimetype": "text/x-python",
   "name": "python",
   "nbconvert_exporter": "python",
   "pygments_lexer": "ipython3",
   "version": "3.9.12"
  }
 },
 "nbformat": 4,
 "nbformat_minor": 5
}
